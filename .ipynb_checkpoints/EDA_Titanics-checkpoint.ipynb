{
 "cells": [
  {
   "cell_type": "markdown",
   "metadata": {},
   "source": [
    "# Investigation on Titanic\n",
    "\n",
    "The Titanic dataset was investigateed in this file. By exploring the dataset, we've found out that among all the passengers, the **cabinet class, sex and age** are effecting the survival rate. \n",
    "\n",
    "## Questions about the dataset\n",
    "By looking at the dataset, the most important thing from this dataset is to find out which people survived, and what are the common features do the survived people share. \n",
    "\n",
    "According to the head of the table, there are several interesting parameters which might contribute to the survival:\n",
    "- **1. Pclass**: Do higher class passengers have higher survival rate? \n",
    "- **2. Sex**: Do Ladies have higher survival rate? \n",
    "- **3. Age**: Do elder people have higher survival rate or lower?\n",
    "- **4. Age, Sex**: Do elder ladies and young children have higher survival rate?\n",
    "\n",
    "\n",
    "##  Load Data from CSVs\n",
    "In order to explore which parameters contribute to the survival, let's first have a look at the data we got."
   ]
  },
  {
   "cell_type": "code",
   "execution_count": 2,
   "metadata": {
    "collapsed": false
   },
   "outputs": [
    {
     "name": "stderr",
     "output_type": "stream",
     "text": [
      "/Users/xuemingli/anaconda/lib/python2.7/site-packages/matplotlib/font_manager.py:273: UserWarning: Matplotlib is building the font cache using fc-list. This may take a moment.\n",
      "  warnings.warn('Matplotlib is building the font cache using fc-list. This may take a moment.')\n"
     ]
    },
    {
     "name": "stdout",
     "output_type": "stream",
     "text": [
      "Populating the interactive namespace from numpy and matplotlib\n"
     ]
    },
    {
     "name": "stderr",
     "output_type": "stream",
     "text": [
      "/Users/xuemingli/anaconda/lib/python2.7/site-packages/IPython/core/magics/pylab.py:161: UserWarning: pylab import has clobbered these variables: ['plt']\n",
      "`%matplotlib` prevents importing * from pylab and numpy\n",
      "  \"\\n`%matplotlib` prevents importing * from pylab and numpy\"\n"
     ]
    }
   ],
   "source": [
    "import pandas as pd\n",
    "import numpy as np\n",
    "import matplotlib as plt\n",
    "import seaborn as sns\n",
    "%pylab inline"
   ]
  },
  {
   "cell_type": "code",
   "execution_count": 3,
   "metadata": {
    "collapsed": false,
    "scrolled": true
   },
   "outputs": [
    {
     "name": "stdout",
     "output_type": "stream",
     "text": [
      "       PassengerId    Survived      Pclass         Age       SibSp  \\\n",
      "count   891.000000  891.000000  891.000000  714.000000  891.000000   \n",
      "mean    446.000000    0.383838    2.308642   29.699118    0.523008   \n",
      "std     257.353842    0.486592    0.836071   14.526497    1.102743   \n",
      "min       1.000000    0.000000    1.000000    0.420000    0.000000   \n",
      "25%     223.500000    0.000000    2.000000         NaN    0.000000   \n",
      "50%     446.000000    0.000000    3.000000         NaN    0.000000   \n",
      "75%     668.500000    1.000000    3.000000         NaN    1.000000   \n",
      "max     891.000000    1.000000    3.000000   80.000000    8.000000   \n",
      "\n",
      "            Parch        Fare  \n",
      "count  891.000000  891.000000  \n",
      "mean     0.381594   32.204208  \n",
      "std      0.806057   49.693429  \n",
      "min      0.000000    0.000000  \n",
      "25%      0.000000    7.910400  \n",
      "50%      0.000000   14.454200  \n",
      "75%      0.000000   31.000000  \n",
      "max      6.000000  512.329200   \n",
      "\n",
      "   PassengerId  Survived  Pclass  \\\n",
      "0            1         0       3   \n",
      "1            2         1       1   \n",
      "2            3         1       3   \n",
      "3            4         1       1   \n",
      "4            5         0       3   \n",
      "\n",
      "                                                Name     Sex   Age  SibSp  \\\n",
      "0                            Braund, Mr. Owen Harris    male  22.0      1   \n",
      "1  Cumings, Mrs. John Bradley (Florence Briggs Th...  female  38.0      1   \n",
      "2                             Heikkinen, Miss. Laina  female  26.0      0   \n",
      "3       Futrelle, Mrs. Jacques Heath (Lily May Peel)  female  35.0      1   \n",
      "4                           Allen, Mr. William Henry    male  35.0      0   \n",
      "\n",
      "   Parch            Ticket     Fare Cabin Embarked  \n",
      "0      0         A/5 21171   7.2500   NaN        S  \n",
      "1      0          PC 17599  71.2833   C85        C  \n",
      "2      0  STON/O2. 3101282   7.9250   NaN        S  \n",
      "3      0            113803  53.1000  C123        S  \n",
      "4      0            373450   8.0500   NaN        S  \n"
     ]
    },
    {
     "name": "stderr",
     "output_type": "stream",
     "text": [
      "/Users/xuemingli/anaconda/lib/python2.7/site-packages/numpy/lib/function_base.py:3834: RuntimeWarning: Invalid value encountered in percentile\n",
      "  RuntimeWarning)\n"
     ]
    }
   ],
   "source": [
    "df = pd.read_csv(\"titanic_data.csv\")\n",
    "print df.describe(), \"\\n\"\n",
    "print df.head()"
   ]
  },
  {
   "cell_type": "markdown",
   "metadata": {},
   "source": [
    "##   (Question 1) Pclass : Do higher class passengers have higher survival rate? ##\n",
    "Cabinet class is first studied here. A plot is shown for each class to visualize the survival data. "
   ]
  },
  {
   "cell_type": "code",
   "execution_count": 4,
   "metadata": {
    "collapsed": false
   },
   "outputs": [
    {
     "name": "stdout",
     "output_type": "stream",
     "text": [
      "Total passenger number:  891\n",
      "6\n",
      "Survival rate for Pclass 3:  0.242362525458\n",
      "Survival rate for Pclass 2:  0.472826086957\n",
      "Survival rate for Pclass 1:  0.62962962963\n"
     ]
    },
    {
     "data": {
      "text/plain": [
       "([<matplotlib.axis.XTick at 0x114c627d0>,\n",
       "  <matplotlib.axis.XTick at 0x114c62e50>,\n",
       "  <matplotlib.axis.XTick at 0x114be8310>],\n",
       " <a list of 3 Text xticklabel objects>)"
      ]
     },
     "execution_count": 4,
     "metadata": {},
     "output_type": "execute_result"
    },
    {
     "data": {
      "image/png": "[encoded data removed]",
      "text/plain": [
       "<matplotlib.figure.Figure at 0x114d14910>"
      ]
     },
     "metadata": {},
     "output_type": "display_data"
    }
   ],
   "source": [
    "pclass = df.groupby([\"Pclass\", \"Survived\"] )\n",
    "# print df.groupby([\"Pclass\",\"Survived\"]).groups\n",
    "print \"Total passenger number: \", len(df)\n",
    "\n",
    "print len(pclass[\"Pclass\"])\n",
    "three_n = len(pclass.groups[(3,0)])\n",
    "three_sv = len(pclass.groups[(3,1)])\n",
    "two_n = len(pclass.groups[(2,0)])\n",
    "two_sv = len(pclass.groups[(2,1)])\n",
    "one_n = len(pclass.groups[(1,0)])\n",
    "one_sv = len(pclass.groups[(1,1)])\n",
    "\n",
    "th_sv = three_sv/float(three_sv+ three_n)\n",
    "t_sv = two_sv/float(two_sv+ two_n)\n",
    "o_sv = one_sv/float(one_sv+ one_n)\n",
    "\n",
    "print \"Survival rate for Pclass 3: \", three_sv/float(three_sv+ three_n)\n",
    "print \"Survival rate for Pclass 2: \", two_sv/float(two_sv+ two_n)\n",
    "print \"Survival rate for Pclass 1: \", one_sv/float(one_sv+ one_n)\n",
    "\n",
    "plt.bar([1,2,3], [ o_sv, t_sv, th_sv], width = 0.5)\n",
    "plt.xticks([1,2,3], [\"Class 1\", \"Class 2\", \"Class 3\"])"
   ]
  },
  {
   "cell_type": "markdown",
   "metadata": {},
   "source": [
    "**Pclass contributes to the survival rate.**\n",
    "\n",
    "Among the three different classes, Pclass 1 has the highest survival rate of 63.0%, Pclass 2 has higher rate than Pclass 3. In this case we can conclude that Pclass is an important parameter."
   ]
  },
  {
   "cell_type": "markdown",
   "metadata": {},
   "source": [
    "## (Question 2) Sex: Do Ladies have higher survival rate?  ##\n",
    "\n"
   ]
  },
  {
   "cell_type": "code",
   "execution_count": 5,
   "metadata": {
    "collapsed": false
   },
   "outputs": [
    {
     "name": "stdout",
     "output_type": "stream",
     "text": [
      "577\n",
      "314\n",
      "[577, 314]\n"
     ]
    },
    {
     "data": {
      "text/plain": [
       "([<matplotlib.patches.Wedge at 0x114dc6950>,\n",
       "  <matplotlib.patches.Wedge at 0x114dd4810>],\n",
       " [<matplotlib.text.Text at 0x114dc6f90>,\n",
       "  <matplotlib.text.Text at 0x114dd4e10>],\n",
       " [<matplotlib.text.Text at 0x114dd43d0>,\n",
       "  <matplotlib.text.Text at 0x1172b91d0>])"
      ]
     },
     "execution_count": 5,
     "metadata": {},
     "output_type": "execute_result"
    },
    {
     "data": {
      "image/png": "[encoded data removed]",
      "text/plain": [
       "<matplotlib.figure.Figure at 0x114d2b050>"
      ]
     },
     "metadata": {},
     "output_type": "display_data"
    }
   ],
   "source": [
    "size = []\n",
    "size.append(len(df[df[\"Sex\"] == \"male\"]))\n",
    "size.append(len(df[df[\"Sex\"] == \"female\"]))\n",
    "print len(df[df[\"Sex\"] == \"male\"])\n",
    "print len(df[df[\"Sex\"] == \"female\"])\n",
    "print size\n",
    "\n",
    "labels = ['Male', 'Female']\n",
    "colors = ['red', 'blue']\n",
    "\n",
    "plt.pie(size, labels=labels, colors=colors, autopct='%1.1f%%')"
   ]
  },
  {
   "cell_type": "markdown",
   "metadata": {},
   "source": [
    "The pie chart about the Sex groups shows that the male and female population are quite close."
   ]
  },
  {
   "cell_type": "code",
   "execution_count": 6,
   "metadata": {
    "collapsed": false,
    "scrolled": false
   },
   "outputs": [
    {
     "name": "stdout",
     "output_type": "stream",
     "text": [
      "Male survival: \n",
      "0    468\n",
      "1    109\n",
      "Name: Survived, dtype: int64\n",
      "\n",
      "\n",
      "Female survival: \n",
      "1    233\n",
      "0     81\n",
      "Name: Survived, dtype: int64\n"
     ]
    },
    {
     "data": {
      "text/plain": [
       "<matplotlib.legend.Legend at 0x114d267d0>"
      ]
     },
     "execution_count": 6,
     "metadata": {},
     "output_type": "execute_result"
    },
    {
     "data": {
      "image/png": "[encoded data removed]",
      "text/plain": [
       "<matplotlib.figure.Figure at 0x114985710>"
      ]
     },
     "metadata": {},
     "output_type": "display_data"
    }
   ],
   "source": [
    "sx_m = df['Survived'][df['Sex']=='male'].value_counts()\n",
    "sx_f = df['Survived'][df['Sex']=='female'].value_counts()\n",
    "\n",
    "print \"Male survival: \\n\", sx_m\n",
    "print '\\n'\n",
    "print \"Female survival: \\n\", sx_f\n",
    "\n",
    "fm = 100*sx_f[1]/float(sx_f.sum())\n",
    "mm = 100*sx_m[1]/float(sx_m.sum())\n",
    "a = 'Female\\n' + str(round(fm, 0)) + '% Survived'\n",
    "b = 'Male\\n' + str(round(mm, 0)) + '% Survived'\n",
    "                   \n",
    "plt.ylabel('Number')\n",
    "plt.xticks((0.125,1.125),(a,b))\n",
    "survived_num = plt.bar((0, 1), [sx_f[1],sx_m[1]], width = 0.125, color = 'red')\n",
    "total_num = plt.bar((0.125,1.125),[sx_f.sum(),sx_m.sum()], width = 0.125, color = 'blue' )\n",
    "plt.legend([total_num,survived_num],['Total number','Suvived number'],loc = 'upper left')"
   ]
  },
  {
   "cell_type": "markdown",
   "metadata": {},
   "source": [
    "According to the survival rate simply grouped by **Sex**, female has much higher survival rate than Male. "
   ]
  },
  {
   "cell_type": "markdown",
   "metadata": {},
   "source": [
    "##  Clean the data ## \n",
    "\n",
    "However, by looking at the table it is found that there are 177 missing values for the Age, which shall not be ignored. Considering that \"Adult\" group is the major group among the \"Age\", so the missing values were valued as \"Adult\".\n",
    "\n",
    "Thus here the provided ages can be grouped as **\"Child\", \"Youth\", \"Adult\" and \"Elder\"**"
   ]
  },
  {
   "cell_type": "code",
   "execution_count": 7,
   "metadata": {
    "collapsed": false
   },
   "outputs": [
    {
     "name": "stdout",
     "output_type": "stream",
     "text": [
      "There are 177 empty value for Age group.\n",
      "Total population is:  891\n"
     ]
    }
   ],
   "source": [
    "print \"There are {} empty value for Age group.\".format(df[\"Age\"].isnull().sum())\n",
    "print \"Total population is: \", len(df)"
   ]
  },
  {
   "cell_type": "code",
   "execution_count": 8,
   "metadata": {
    "collapsed": false
   },
   "outputs": [],
   "source": [
    "def age_range(age):\n",
    "    if age >=0 and age <12:\n",
    "        return \"Child\"\n",
    "    elif age < 18:\n",
    "        return \"Youth\"\n",
    "    elif age < 60:\n",
    "        return \"Adult\"\n",
    "    elif age > 60:\n",
    "        return \"Elder\"\n",
    "    else:\n",
    "        return \"Adult\"\n",
    "\n",
    "df[\"Age\"] = df[\"Age\"].apply(age_range)"
   ]
  },
  {
   "cell_type": "markdown",
   "metadata": {},
   "source": [
    "##  (Question 3)  Age: Do elder people have higher survival rate or lower?  ##"
   ]
  },
  {
   "cell_type": "code",
   "execution_count": 9,
   "metadata": {
    "collapsed": false
   },
   "outputs": [
    {
     "name": "stdout",
     "output_type": "stream",
     "text": [
      "Total amount: \n",
      "     Age  Survived\n",
      "0  Adult       756\n",
      "1  Child        68\n",
      "2  Elder        22\n",
      "3  Youth        45\n",
      "Survived: \n",
      "     Age  Survived\n",
      "0  Adult       276\n",
      "1  Child        39\n",
      "2  Elder         5\n",
      "3  Youth        22\n",
      "Survival rate: \n",
      "0    0.365079\n",
      "1    0.573529\n",
      "2    0.227273\n",
      "3    0.488889\n",
      "Name: Survived, dtype: float64\n"
     ]
    },
    {
     "data": {
      "text/plain": [
       "<matplotlib.text.Text at 0x117c19c50>"
      ]
     },
     "execution_count": 9,
     "metadata": {},
     "output_type": "execute_result"
    },
    {
     "data": {
      "image/png": "[encoded data removed]",
      "text/plain": [
       "<matplotlib.figure.Figure at 0x114d2ca50>"
      ]
     },
     "metadata": {},
     "output_type": "display_data"
    }
   ],
   "source": [
    "#Group the \"Sex\" and \"Age\" group\n",
    "age = df.groupby([\"Age\"], as_index = False)\n",
    "\n",
    "#Count the total amount of people in each group in \"age_sum\"\n",
    "age_sum = age['Survived'].count()\n",
    "\n",
    "#Count the survived people in each group in \"age_sv\"\n",
    "age_sv = age.aggregate({'Survived': np.sum})\n",
    "\n",
    "#Calculate the survival rate for each group\n",
    "age_rate = age_sv[\"Survived\"].div(age_sum[\"Survived\"], axis='index') \n",
    "\n",
    "print \"Total amount: \\n\", age_sum\n",
    "print \"Survived: \\n\",age_sv\n",
    "print \"Survival rate: \"\n",
    "print age_rate\n",
    "#age_rate.plot(kind = \"bar\")\n",
    "\n",
    "plt.xticks(range(4),[\"Adult\", \"Child\", \"Elder\", \"Youth\"])\n",
    "plt.xlim([-1,4.5])\n",
    "plt.ylim([-0.1,1])\n",
    "plt.ylabel('Survival rate')\n",
    "plt.bar(range(4), age_rate, width = 0.25)\n",
    "plt.title(\"The survival rate of different Age groups\")"
   ]
  },
  {
   "cell_type": "markdown",
   "metadata": {},
   "source": [
    "According to the survival rate simply grouped by **Age**, though the elder are lower than the others, but even NaN group has average survival rate. It's hard to get any conclusion from this chart simply by grouping them into Age groups. "
   ]
  },
  {
   "cell_type": "markdown",
   "metadata": {},
   "source": [
    "##  (Question 4) Sex, Age: Do Ladies and young children have higher survival rate?  ##\n",
    "\n",
    "More parameters are studied. Another intuition is the **Gender** and **Age**. "
   ]
  },
  {
   "cell_type": "code",
   "execution_count": 10,
   "metadata": {
    "collapsed": false
   },
   "outputs": [
    {
     "name": "stdout",
     "output_type": "stream",
     "text": [
      "Total amount: \n",
      "      Sex    Age  Survived\n",
      "0  female  Adult       256\n",
      "1  female  Child        32\n",
      "2  female  Elder         3\n",
      "3  female  Youth        23\n",
      "4    male  Adult       500\n",
      "5    male  Child        36\n",
      "6    male  Elder        19\n",
      "7    male  Youth        22\n",
      "\n",
      "\n",
      "Survived: \n",
      "      Sex    Age  Survived\n",
      "0  female  Adult       192\n",
      "1  female  Child        19\n",
      "2  female  Elder         3\n",
      "3  female  Youth        19\n",
      "4    male  Adult        84\n",
      "5    male  Child        20\n",
      "6    male  Elder         2\n",
      "7    male  Youth         3\n"
     ]
    }
   ],
   "source": [
    "#Group the \"Sex\" and \"Age\" group\n",
    "sxage = df.groupby([\"Sex\", \"Age\"], as_index = False)\n",
    "\n",
    "#Count the total amount of people in each group in \"sxage_sum\"\n",
    "sxage_sum = sxage['Survived'].count()\n",
    "\n",
    "#Count the survived people in each group in \"sxage_sv\"\n",
    "sxage_sv = sxage.aggregate({'Survived': np.sum})\n",
    "\n",
    "print \"Total amount: \\n\", sxage_sum\n",
    "print \"\\n\"\n",
    "print \"Survived: \\n\",sxage_sv"
   ]
  },
  {
   "cell_type": "code",
   "execution_count": 11,
   "metadata": {
    "collapsed": false
   },
   "outputs": [
    {
     "name": "stdout",
     "output_type": "stream",
     "text": [
      "0    0.750000\n",
      "1    0.593750\n",
      "2    1.000000\n",
      "3    0.826087\n",
      "4    0.168000\n",
      "5    0.555556\n",
      "6    0.105263\n",
      "7    0.136364\n",
      "Name: Survived, dtype: float64\n"
     ]
    }
   ],
   "source": [
    "#Calculate the survival rate for each group\n",
    "sxage_rate = sxage_sv[\"Survived\"].div(sxage_sum[\"Survived\"], axis='index') \n",
    "print sxage_rate"
   ]
  },
  {
   "cell_type": "code",
   "execution_count": 12,
   "metadata": {
    "collapsed": false
   },
   "outputs": [
    {
     "name": "stdout",
     "output_type": "stream",
     "text": [
      "4    0.168000\n",
      "5    0.555556\n",
      "6    0.105263\n",
      "7    0.136364\n",
      "Name: Survived, dtype: float64\n"
     ]
    },
    {
     "data": {
      "text/plain": [
       "<matplotlib.legend.Legend at 0x117dcfbd0>"
      ]
     },
     "execution_count": 12,
     "metadata": {},
     "output_type": "execute_result"
    },
    {
     "data": {
      "image/png": "[encoded data removed]",
      "text/plain": [
       "<matplotlib.figure.Figure at 0x117c0f210>"
      ]
     },
     "metadata": {},
     "output_type": "display_data"
    }
   ],
   "source": [
    "#Visuallize the survival rate for each group\n",
    "#plt.bar(range(4), sxage_rate[4:8], width = 0.35, position=1)\n",
    "#plt.bar(range(4), sxage_rate[0:4], width = 0.35, position=0)\n",
    "print sxage_rate[4:8]\n",
    "\n",
    "x = [1, 2,3,4]\n",
    "xx = [0.6,1.6,2.6,3.6]\n",
    "ax = plt.subplot(111)\n",
    "ax.bar(xx,sxage_rate[4:8],width=0.35,color='r',align='center')\n",
    "\n",
    "ax.bar(x,sxage_rate[0:4],width=0.35,color='b',align='center')\n",
    "ax.set_xticklabels((\"\",\"Adult\",\"\",\"Child\",\"\", \"Elder\", \"\",\"Youth\"))\n",
    "ax.legend(('Male', 'Female'))\n"
   ]
  },
  {
   "cell_type": "markdown",
   "metadata": {},
   "source": [
    "It is shown in this bar chart that **Female** has much generally higher survival rate than male. **Age** is also effecting the rate, among this **Femal Elder** (100%) and **Femal Youth** (82.6%) has the highest survival rate, while among the male list, **Male Child** (55.6%) has much higher survival rate than the others. \n",
    "\n",
    "However, due to that there're some people has age data missing **(NaN)**, we are not 100% sure that \"Female Elder\" all survived. So more parameters need to be explored."
   ]
  },
  {
   "cell_type": "markdown",
   "metadata": {},
   "source": [
    "## Conclusion ##\n",
    "This chart shows the combination of \"Pclass\", \"Sex\" and \"Age\". \n",
    "1. Pclass has effect on the survival rate. \n",
    "    It is clearly shown that Pclass 3 has much lower survival rate, while the difference between Pclass 1 and 2 are not clear. \n",
    "2. Age and Sex both has effect on the survival rate. \n",
    "    Female has higher survival rate than male, and Female Elder has the highest among all. Male Adult and Elder has very low rate. However, Male Youth has high survival rate in Pclass 1 and 2 (both 100%), while 33% at Pclass 3. \n",
    "3. So far it is clear that there's correlation between Pclass, Sex and Age, but it's not causation relationship. Some Machine Learning calculation is required to oder to find out which parameter contributes more.  \n"
   ]
  },
  {
   "cell_type": "code",
   "execution_count": 13,
   "metadata": {
    "collapsed": false
   },
   "outputs": [
    {
     "ename": "ImportError",
     "evalue": "No module named d3_lib",
     "output_type": "error",
     "traceback": [
      "\u001b[0;31m---------------------------------------------------------------------------\u001b[0m",
      "\u001b[0;31mImportError\u001b[0m                               Traceback (most recent call last)",
      "\u001b[0;32m<ipython-input-13-8a4effe4550a>\u001b[0m in \u001b[0;36m<module>\u001b[0;34m()\u001b[0m\n\u001b[1;32m      1\u001b[0m \u001b[0;31m# import the D3 module\u001b[0m\u001b[0;34m\u001b[0m\u001b[0;34m\u001b[0m\u001b[0m\n\u001b[1;32m      2\u001b[0m \u001b[0;32mfrom\u001b[0m \u001b[0mIPython\u001b[0m\u001b[0;34m.\u001b[0m\u001b[0mcore\u001b[0m\u001b[0;34m.\u001b[0m\u001b[0mdisplay\u001b[0m \u001b[0;32mimport\u001b[0m \u001b[0mHTML\u001b[0m\u001b[0;34m\u001b[0m\u001b[0m\n\u001b[0;32m----> 3\u001b[0;31m \u001b[0;32mimport\u001b[0m \u001b[0md3_lib\u001b[0m\u001b[0;34m\u001b[0m\u001b[0m\n\u001b[0m",
      "\u001b[0;31mImportError\u001b[0m: No module named d3_lib"
     ]
    }
   ],
   "source": [
    "# import the D3 module\n",
    "from IPython.core.display import HTML\n",
    "import d3_lib"
   ]
  },
  {
   "cell_type": "code",
   "execution_count": null,
   "metadata": {
    "collapsed": true
   },
   "outputs": [],
   "source": []
  }
 ],
 "metadata": {
  "anaconda-cloud": {},
  "kernelspec": {
   "display_name": "Python [default]",
   "language": "python",
   "name": "python2"
  },
  "language_info": {
   "codemirror_mode": {
    "name": "ipython",
    "version": 2
   },
   "file_extension": ".py",
   "mimetype": "text/x-python",
   "name": "python",
   "nbconvert_exporter": "python",
   "pygments_lexer": "ipython2",
   "version": "2.7.12"
  }
 },
 "nbformat": 4,
 "nbformat_minor": 1
}
