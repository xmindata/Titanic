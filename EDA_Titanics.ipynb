{
 "cells": [
  {
   "cell_type": "markdown",
   "metadata": {},
   "source": [
    "# Investigation on Titanic\n",
    "\n",
    "The Titanic dataset was investigateed in this file. By exploring the dataset, we've found out that among all the passengers, the **cabinet class, sex and age** are effecting the survival rate. \n",
    "\n",
    "## Questions about the dataset\n",
    "By looking at the dataset, the most important thing from this dataset is to find out which people survived, and what are the common features do the survived people share. \n",
    "\n",
    "According to the head of the table, there are several interesting parameters which might contribute to the survival:\n",
    "- **1. Pclass**: Do higher class passengers have higher survival rate? \n",
    "- **2. Sex**: Do Ladies have higher survival rate? \n",
    "- **3. Age**: Do elder people have higher survival rate or lower?\n",
    "- **4. Age, Sex**: Do elder ladies and young children have higher survival rate?\n",
    "\n",
    "\n",
    "##  Load Data from CSVs\n",
    "In order to explore which parameters contribute to the survival, let's first have a look at the data we got."
   ]
  },
  {
   "cell_type": "code",
   "execution_count": null,
   "metadata": {},
   "outputs": [],
   "source": [
    "import pandas as pd\n",
    "import numpy as np\n",
    "import matplotlib as plt\n",
    "import seaborn as sns\n",
    "%pylab inline"
   ]
  },
  {
   "cell_type": "code",
   "execution_count": null,
   "metadata": {
    "scrolled": true
   },
   "outputs": [],
   "source": [
    "df = pd.read_csv(\"titanic_data.csv\")\n",
    "df.head(5)"
   ]
  },
  {
   "cell_type": "code",
   "execution_count": null,
   "metadata": {},
   "outputs": [],
   "source": [
    "df.info()"
   ]
  },
  {
   "cell_type": "code",
   "execution_count": null,
   "metadata": {},
   "outputs": [],
   "source": [
    "df.describe()"
   ]
  },
  {
   "cell_type": "code",
   "execution_count": null,
   "metadata": {},
   "outputs": [],
   "source": [
    "df['Pclass'].unique()"
   ]
  },
  {
   "cell_type": "code",
   "execution_count": null,
   "metadata": {},
   "outputs": [],
   "source": [
    "df['Sex'].unique()"
   ]
  },
  {
   "cell_type": "code",
   "execution_count": null,
   "metadata": {},
   "outputs": [],
   "source": [
    "df['Ticket'].unique()"
   ]
  },
  {
   "cell_type": "code",
   "execution_count": 13,
   "metadata": {},
   "outputs": [
    {
     "data": {
      "text/plain": [
       "array([nan, 'C85', 'C123', 'E46', 'G6', 'C103', 'D56', 'A6', 'C23 C25 C27',\n",
       "       'B78', 'D33', 'B30', 'C52', 'B28', 'C83', 'F33', 'F G73', 'E31',\n",
       "       'A5', 'D10 D12', 'D26', 'C110', 'B58 B60', 'E101', 'F E69', 'D47',\n",
       "       'B86', 'F2', 'C2', 'E33', 'B19', 'A7', 'C49', 'F4', 'A32', 'B4',\n",
       "       'B80', 'A31', 'D36', 'D15', 'C93', 'C78', 'D35', 'C87', 'B77',\n",
       "       'E67', 'B94', 'C125', 'C99', 'C118', 'D7', 'A19', 'B49', 'D',\n",
       "       'C22 C26', 'C106', 'C65', 'E36', 'C54', 'B57 B59 B63 B66', 'C7',\n",
       "       'E34', 'C32', 'B18', 'C124', 'C91', 'E40', 'T', 'C128', 'D37',\n",
       "       'B35', 'E50', 'C82', 'B96 B98', 'E10', 'E44', 'A34', 'C104', 'C111',\n",
       "       'C92', 'E38', 'D21', 'E12', 'E63', 'A14', 'B37', 'C30', 'D20',\n",
       "       'B79', 'E25', 'D46', 'B73', 'C95', 'B38', 'B39', 'B22', 'C86',\n",
       "       'C70', 'A16', 'C101', 'C68', 'A10', 'E68', 'B41', 'A20', 'D19',\n",
       "       'D50', 'D9', 'A23', 'B50', 'A26', 'D48', 'E58', 'C126', 'B71',\n",
       "       'B51 B53 B55', 'D49', 'B5', 'B20', 'F G63', 'C62 C64', 'E24', 'C90',\n",
       "       'C45', 'E8', 'B101', 'D45', 'C46', 'D30', 'E121', 'D11', 'E77',\n",
       "       'F38', 'B3', 'D6', 'B82 B84', 'D17', 'A36', 'B102', 'B69', 'E49',\n",
       "       'C47', 'D28', 'E17', 'A24', 'C50', 'B42', 'C148'], dtype=object)"
      ]
     },
     "execution_count": 13,
     "metadata": {},
     "output_type": "execute_result"
    }
   ],
   "source": [
    "df['Cabin'].unique()"
   ]
  },
  {
   "cell_type": "markdown",
   "metadata": {},
   "source": [
    "There are quite a few different cabins, but we also noticed that they might be categorized as the first letter: A~T"
   ]
  },
  {
   "cell_type": "code",
   "execution_count": 17,
   "metadata": {},
   "outputs": [
    {
     "data": {
      "text/html": [
       "<div>\n",
       "<table border=\"1\" class=\"dataframe\">\n",
       "  <thead>\n",
       "    <tr style=\"text-align: right;\">\n",
       "      <th></th>\n",
       "      <th>PassengerId</th>\n",
       "      <th>Survived</th>\n",
       "      <th>Pclass</th>\n",
       "      <th>Name</th>\n",
       "      <th>Sex</th>\n",
       "      <th>Age</th>\n",
       "      <th>SibSp</th>\n",
       "      <th>Parch</th>\n",
       "      <th>Ticket</th>\n",
       "      <th>Fare</th>\n",
       "      <th>Cabin</th>\n",
       "      <th>Embarked</th>\n",
       "    </tr>\n",
       "  </thead>\n",
       "  <tbody>\n",
       "    <tr>\n",
       "      <th>339</th>\n",
       "      <td>340</td>\n",
       "      <td>0</td>\n",
       "      <td>1</td>\n",
       "      <td>Blackwell, Mr. Stephen Weart</td>\n",
       "      <td>male</td>\n",
       "      <td>45.0</td>\n",
       "      <td>0</td>\n",
       "      <td>0</td>\n",
       "      <td>113784</td>\n",
       "      <td>35.5</td>\n",
       "      <td>T</td>\n",
       "      <td>S</td>\n",
       "    </tr>\n",
       "  </tbody>\n",
       "</table>\n",
       "</div>"
      ],
      "text/plain": [
       "     PassengerId  Survived  Pclass                          Name   Sex   Age  \\\n",
       "339          340         0       1  Blackwell, Mr. Stephen Weart  male  45.0   \n",
       "\n",
       "     SibSp  Parch  Ticket  Fare Cabin Embarked  \n",
       "339      0      0  113784  35.5     T        S  "
      ]
     },
     "execution_count": 17,
     "metadata": {},
     "output_type": "execute_result"
    }
   ],
   "source": [
    "df[df['Cabin'] == 'T']"
   ]
  },
  {
   "cell_type": "code",
   "execution_count": null,
   "metadata": {
    "collapsed": true
   },
   "outputs": [],
   "source": []
  },
  {
   "cell_type": "markdown",
   "metadata": {},
   "source": [
    "##   (Question 1) Pclass : Do higher class passengers have higher survival rate? ##\n",
    "Cabinet class is first studied here. A plot is shown for each class to visualize the survival data. "
   ]
  },
  {
   "cell_type": "code",
   "execution_count": null,
   "metadata": {},
   "outputs": [],
   "source": [
    "pclass = df.groupby([\"Pclass\", \"Survived\"] )\n",
    "# print df.groupby([\"Pclass\",\"Survived\"]).groups\n",
    "print \"Total passenger number: \", len(df)\n",
    "\n",
    "print len(pclass[\"Pclass\"])\n",
    "three_n = len(pclass.groups[(3,0)])\n",
    "three_sv = len(pclass.groups[(3,1)])\n",
    "two_n = len(pclass.groups[(2,0)])\n",
    "two_sv = len(pclass.groups[(2,1)])\n",
    "one_n = len(pclass.groups[(1,0)])\n",
    "one_sv = len(pclass.groups[(1,1)])\n",
    "\n",
    "th_sv = three_sv/float(three_sv+ three_n)\n",
    "t_sv = two_sv/float(two_sv+ two_n)\n",
    "o_sv = one_sv/float(one_sv+ one_n)\n",
    "\n",
    "print \"Survival rate for Pclass 3: \", three_sv/float(three_sv+ three_n)\n",
    "print \"Survival rate for Pclass 2: \", two_sv/float(two_sv+ two_n)\n",
    "print \"Survival rate for Pclass 1: \", one_sv/float(one_sv+ one_n)\n",
    "\n",
    "plt.bar([1,2,3], [ o_sv, t_sv, th_sv], width = 0.5)\n",
    "plt.xticks([1,2,3], [\"Class 1\", \"Class 2\", \"Class 3\"])"
   ]
  },
  {
   "cell_type": "markdown",
   "metadata": {},
   "source": [
    "**Pclass contributes to the survival rate.**\n",
    "\n",
    "Among the three different classes, Pclass 1 has the highest survival rate of 63.0%, Pclass 2 has higher rate than Pclass 3. In this case we can conclude that Pclass is an important parameter."
   ]
  },
  {
   "cell_type": "markdown",
   "metadata": {},
   "source": [
    "## (Question 2) Sex: Do Ladies have higher survival rate?  ##\n",
    "\n"
   ]
  },
  {
   "cell_type": "code",
   "execution_count": null,
   "metadata": {},
   "outputs": [],
   "source": [
    "size = []\n",
    "size.append(len(df[df[\"Sex\"] == \"male\"]))\n",
    "size.append(len(df[df[\"Sex\"] == \"female\"]))\n",
    "print len(df[df[\"Sex\"] == \"male\"])\n",
    "print len(df[df[\"Sex\"] == \"female\"])\n",
    "print size\n",
    "\n",
    "labels = ['Male', 'Female']\n",
    "colors = ['red', 'blue']\n",
    "\n",
    "plt.pie(size, labels=labels, colors=colors, autopct='%1.1f%%')"
   ]
  },
  {
   "cell_type": "markdown",
   "metadata": {},
   "source": [
    "The pie chart about the Sex groups shows that the male and female population are quite close."
   ]
  },
  {
   "cell_type": "code",
   "execution_count": null,
   "metadata": {
    "scrolled": false
   },
   "outputs": [],
   "source": [
    "sx_m = df['Survived'][df['Sex']=='male'].value_counts()\n",
    "sx_f = df['Survived'][df['Sex']=='female'].value_counts()\n",
    "\n",
    "print \"Male survival: \\n\", sx_m\n",
    "print '\\n'\n",
    "print \"Female survival: \\n\", sx_f\n",
    "\n",
    "fm = 100*sx_f[1]/float(sx_f.sum())\n",
    "mm = 100*sx_m[1]/float(sx_m.sum())\n",
    "a = 'Female\\n' + str(round(fm, 0)) + '% Survived'\n",
    "b = 'Male\\n' + str(round(mm, 0)) + '% Survived'\n",
    "                   \n",
    "plt.ylabel('Number')\n",
    "plt.xticks((0.125,1.125),(a,b))\n",
    "survived_num = plt.bar((0, 1), [sx_f[1],sx_m[1]], width = 0.125, color = 'red')\n",
    "total_num = plt.bar((0.125,1.125),[sx_f.sum(),sx_m.sum()], width = 0.125, color = 'blue' )\n",
    "plt.legend([total_num,survived_num],['Total number','Suvived number'],loc = 'upper left')"
   ]
  },
  {
   "cell_type": "markdown",
   "metadata": {},
   "source": [
    "According to the survival rate simply grouped by **Sex**, female has much higher survival rate than Male. "
   ]
  },
  {
   "cell_type": "markdown",
   "metadata": {},
   "source": [
    "##  Clean the data ## \n",
    "\n",
    "However, by looking at the table it is found that there are 177 missing values for the Age, which shall not be ignored. Considering that \"Adult\" group is the major group among the \"Age\", so the missing values were valued as \"Adult\".\n",
    "\n",
    "Thus here the provided ages can be grouped as **\"Child\", \"Youth\", \"Adult\" and \"Elder\"**"
   ]
  },
  {
   "cell_type": "code",
   "execution_count": null,
   "metadata": {},
   "outputs": [],
   "source": [
    "print \"There are {} empty value for Age group.\".format(df[\"Age\"].isnull().sum())\n",
    "print \"Total population is: \", len(df)"
   ]
  },
  {
   "cell_type": "code",
   "execution_count": null,
   "metadata": {},
   "outputs": [],
   "source": [
    "def age_range(age):\n",
    "    if age >=0 and age <12:\n",
    "        return \"Child\"\n",
    "    elif age < 18:\n",
    "        return \"Youth\"\n",
    "    elif age < 60:\n",
    "        return \"Adult\"\n",
    "    elif age > 60:\n",
    "        return \"Elder\"\n",
    "    else:\n",
    "        return \"Adult\"\n",
    "\n",
    "df[\"Age\"] = df[\"Age\"].apply(age_range)"
   ]
  },
  {
   "cell_type": "markdown",
   "metadata": {},
   "source": [
    "##  (Question 3)  Age: Do elder people have higher survival rate or lower?  ##"
   ]
  },
  {
   "cell_type": "code",
   "execution_count": null,
   "metadata": {},
   "outputs": [],
   "source": [
    "#Group the \"Sex\" and \"Age\" group\n",
    "age = df.groupby([\"Age\"], as_index = False)\n",
    "\n",
    "#Count the total amount of people in each group in \"age_sum\"\n",
    "age_sum = age['Survived'].count()\n",
    "\n",
    "#Count the survived people in each group in \"age_sv\"\n",
    "age_sv = age.aggregate({'Survived': np.sum})\n",
    "\n",
    "#Calculate the survival rate for each group\n",
    "age_rate = age_sv[\"Survived\"].div(age_sum[\"Survived\"], axis='index') \n",
    "\n",
    "print \"Total amount: \\n\", age_sum\n",
    "print \"Survived: \\n\",age_sv\n",
    "print \"Survival rate: \"\n",
    "print age_rate\n",
    "#age_rate.plot(kind = \"bar\")\n",
    "\n",
    "plt.xticks(range(4),[\"Adult\", \"Child\", \"Elder\", \"Youth\"])\n",
    "plt.xlim([-1,4.5])\n",
    "plt.ylim([-0.1,1])\n",
    "plt.ylabel('Survival rate')\n",
    "plt.bar(range(4), age_rate, width = 0.25)\n",
    "plt.title(\"The survival rate of different Age groups\")"
   ]
  },
  {
   "cell_type": "markdown",
   "metadata": {},
   "source": [
    "According to the survival rate simply grouped by **Age**, though the elder are lower than the others, but even NaN group has average survival rate. It's hard to get any conclusion from this chart simply by grouping them into Age groups. "
   ]
  },
  {
   "cell_type": "markdown",
   "metadata": {},
   "source": [
    "##  (Question 4) Sex, Age: Do Ladies and young children have higher survival rate?  ##\n",
    "\n",
    "More parameters are studied. Another intuition is the **Gender** and **Age**. "
   ]
  },
  {
   "cell_type": "code",
   "execution_count": null,
   "metadata": {},
   "outputs": [],
   "source": [
    "#Group the \"Sex\" and \"Age\" group\n",
    "sxage = df.groupby([\"Sex\", \"Age\"], as_index = False)\n",
    "\n",
    "#Count the total amount of people in each group in \"sxage_sum\"\n",
    "sxage_sum = sxage['Survived'].count()\n",
    "\n",
    "#Count the survived people in each group in \"sxage_sv\"\n",
    "sxage_sv = sxage.aggregate({'Survived': np.sum})\n",
    "\n",
    "print \"Total amount: \\n\", sxage_sum\n",
    "print \"\\n\"\n",
    "print \"Survived: \\n\",sxage_sv"
   ]
  },
  {
   "cell_type": "code",
   "execution_count": null,
   "metadata": {},
   "outputs": [],
   "source": [
    "#Calculate the survival rate for each group\n",
    "sxage_rate = sxage_sv[\"Survived\"].div(sxage_sum[\"Survived\"], axis='index') \n",
    "print sxage_rate"
   ]
  },
  {
   "cell_type": "code",
   "execution_count": null,
   "metadata": {},
   "outputs": [],
   "source": [
    "#Visuallize the survival rate for each group\n",
    "#plt.bar(range(4), sxage_rate[4:8], width = 0.35, position=1)\n",
    "#plt.bar(range(4), sxage_rate[0:4], width = 0.35, position=0)\n",
    "print sxage_rate[4:8]\n",
    "\n",
    "x = [1, 2,3,4]\n",
    "xx = [0.6,1.6,2.6,3.6]\n",
    "ax = plt.subplot(111)\n",
    "ax.bar(xx,sxage_rate[4:8],width=0.35,color='r',align='center')\n",
    "\n",
    "ax.bar(x,sxage_rate[0:4],width=0.35,color='b',align='center')\n",
    "ax.set_xticklabels((\"\",\"Adult\",\"\",\"Child\",\"\", \"Elder\", \"\",\"Youth\"))\n",
    "ax.legend(('Male', 'Female'))\n"
   ]
  },
  {
   "cell_type": "markdown",
   "metadata": {},
   "source": [
    "It is shown in this bar chart that **Female** has much generally higher survival rate than male. **Age** is also effecting the rate, among this **Femal Elder** (100%) and **Femal Youth** (82.6%) has the highest survival rate, while among the male list, **Male Child** (55.6%) has much higher survival rate than the others. \n",
    "\n",
    "However, due to that there're some people has age data missing **(NaN)**, we are not 100% sure that \"Female Elder\" all survived. So more parameters need to be explored."
   ]
  },
  {
   "cell_type": "markdown",
   "metadata": {},
   "source": [
    "## Conclusion ##\n",
    "This chart shows the combination of \"Pclass\", \"Sex\" and \"Age\". \n",
    "1. Pclass has effect on the survival rate. \n",
    "    It is clearly shown that Pclass 3 has much lower survival rate, while the difference between Pclass 1 and 2 are not clear. \n",
    "2. Age and Sex both has effect on the survival rate. \n",
    "    Female has higher survival rate than male, and Female Elder has the highest among all. Male Adult and Elder has very low rate. However, Male Youth has high survival rate in Pclass 1 and 2 (both 100%), while 33% at Pclass 3. \n",
    "3. So far it is clear that there's correlation between Pclass, Sex and Age, but it's not causation relationship. Some Machine Learning calculation is required to oder to find out which parameter contributes more.  \n"
   ]
  },
  {
   "cell_type": "code",
   "execution_count": null,
   "metadata": {},
   "outputs": [],
   "source": [
    "# import the D3 module\n",
    "from IPython.core.display import HTML\n",
    "import d3_lib"
   ]
  },
  {
   "cell_type": "code",
   "execution_count": null,
   "metadata": {
    "collapsed": true
   },
   "outputs": [],
   "source": []
  }
 ],
 "metadata": {
  "anaconda-cloud": {},
  "kernelspec": {
   "display_name": "Python 2",
   "language": "python",
   "name": "python2"
  },
  "language_info": {
   "codemirror_mode": {
    "name": "ipython",
    "version": 2
   },
   "file_extension": ".py",
   "mimetype": "text/x-python",
   "name": "python",
   "nbconvert_exporter": "python",
   "pygments_lexer": "ipython2",
   "version": "2.7.13"
  }
 },
 "nbformat": 4,
 "nbformat_minor": 1
}
